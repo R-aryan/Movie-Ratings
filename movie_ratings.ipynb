{
 "cells": [
  {
   "cell_type": "markdown",
   "metadata": {},
   "source": [
    "# k-means Clustering of Movie Ratings\n",
    "\n",
    "Say you're a data analyst at Netflix and you want to explore the similarities and differences in people's tastes in movies based on how they rate different movies. Can understanding these ratings contribute to a movie recommendation system for users? Let's dig into the data and see.\n",
    "\n",
    "The data we'll be using comes from the wonderful [MovieLens](https://movielens.org/) [user rating dataset](https://grouplens.org/datasets/movielens/). We'll be looking at individual movie ratings later in the notebook, but let us start with how ratings of genres compare to each other.\n",
    "\n",
    "## Dataset overview\n",
    "The dataset has two files. We'll import them both into pandas dataframes:"
   ]
  },
  {
   "cell_type": "code",
   "execution_count": 1,
   "metadata": {},
   "outputs": [
    {
     "data": {
      "text/html": [
       "<div>\n",
       "<style>\n",
       "    .dataframe thead tr:only-child th {\n",
       "        text-align: right;\n",
       "    }\n",
       "\n",
       "    .dataframe thead th {\n",
       "        text-align: left;\n",
       "    }\n",
       "\n",
       "    .dataframe tbody tr th {\n",
       "        vertical-align: top;\n",
       "    }\n",
       "</style>\n",
       "<table border=\"1\" class=\"dataframe\">\n",
       "  <thead>\n",
       "    <tr style=\"text-align: right;\">\n",
       "      <th></th>\n",
       "      <th>movieId</th>\n",
       "      <th>title</th>\n",
       "      <th>genres</th>\n",
       "    </tr>\n",
       "  </thead>\n",
       "  <tbody>\n",
       "    <tr>\n",
       "      <th>0</th>\n",
       "      <td>1</td>\n",
       "      <td>Toy Story (1995)</td>\n",
       "      <td>Adventure|Animation|Children|Comedy|Fantasy</td>\n",
       "    </tr>\n",
       "    <tr>\n",
       "      <th>1</th>\n",
       "      <td>2</td>\n",
       "      <td>Jumanji (1995)</td>\n",
       "      <td>Adventure|Children|Fantasy</td>\n",
       "    </tr>\n",
       "    <tr>\n",
       "      <th>2</th>\n",
       "      <td>3</td>\n",
       "      <td>Grumpier Old Men (1995)</td>\n",
       "      <td>Comedy|Romance</td>\n",
       "    </tr>\n",
       "    <tr>\n",
       "      <th>3</th>\n",
       "      <td>4</td>\n",
       "      <td>Waiting to Exhale (1995)</td>\n",
       "      <td>Comedy|Drama|Romance</td>\n",
       "    </tr>\n",
       "    <tr>\n",
       "      <th>4</th>\n",
       "      <td>5</td>\n",
       "      <td>Father of the Bride Part II (1995)</td>\n",
       "      <td>Comedy</td>\n",
       "    </tr>\n",
       "  </tbody>\n",
       "</table>\n",
       "</div>"
      ],
      "text/plain": [
       "   movieId                               title  \\\n",
       "0        1                    Toy Story (1995)   \n",
       "1        2                      Jumanji (1995)   \n",
       "2        3             Grumpier Old Men (1995)   \n",
       "3        4            Waiting to Exhale (1995)   \n",
       "4        5  Father of the Bride Part II (1995)   \n",
       "\n",
       "                                        genres  \n",
       "0  Adventure|Animation|Children|Comedy|Fantasy  \n",
       "1                   Adventure|Children|Fantasy  \n",
       "2                               Comedy|Romance  \n",
       "3                         Comedy|Drama|Romance  \n",
       "4                                       Comedy  "
      ]
     },
     "execution_count": 1,
     "metadata": {},
     "output_type": "execute_result"
    }
   ],
   "source": [
    "import pandas as pd\n",
    "import matplotlib.pyplot as plt\n",
    "import numpy as np\n",
    "from scipy.sparse import csr_matrix\n",
    "import helper\n",
    "\n",
    "# Import the Movies dataset\n",
    "movies = pd.read_csv('ml-latest-small/movies.csv')\n",
    "movies.head()"
   ]
  },
  {
   "cell_type": "code",
   "execution_count": 2,
   "metadata": {},
   "outputs": [
    {
     "data": {
      "text/html": [
       "<div>\n",
       "<style>\n",
       "    .dataframe thead tr:only-child th {\n",
       "        text-align: right;\n",
       "    }\n",
       "\n",
       "    .dataframe thead th {\n",
       "        text-align: left;\n",
       "    }\n",
       "\n",
       "    .dataframe tbody tr th {\n",
       "        vertical-align: top;\n",
       "    }\n",
       "</style>\n",
       "<table border=\"1\" class=\"dataframe\">\n",
       "  <thead>\n",
       "    <tr style=\"text-align: right;\">\n",
       "      <th></th>\n",
       "      <th>userId</th>\n",
       "      <th>movieId</th>\n",
       "      <th>rating</th>\n",
       "      <th>timestamp</th>\n",
       "    </tr>\n",
       "  </thead>\n",
       "  <tbody>\n",
       "    <tr>\n",
       "      <th>0</th>\n",
       "      <td>1</td>\n",
       "      <td>31</td>\n",
       "      <td>2.5</td>\n",
       "      <td>1260759144</td>\n",
       "    </tr>\n",
       "    <tr>\n",
       "      <th>1</th>\n",
       "      <td>1</td>\n",
       "      <td>1029</td>\n",
       "      <td>3.0</td>\n",
       "      <td>1260759179</td>\n",
       "    </tr>\n",
       "    <tr>\n",
       "      <th>2</th>\n",
       "      <td>1</td>\n",
       "      <td>1061</td>\n",
       "      <td>3.0</td>\n",
       "      <td>1260759182</td>\n",
       "    </tr>\n",
       "    <tr>\n",
       "      <th>3</th>\n",
       "      <td>1</td>\n",
       "      <td>1129</td>\n",
       "      <td>2.0</td>\n",
       "      <td>1260759185</td>\n",
       "    </tr>\n",
       "    <tr>\n",
       "      <th>4</th>\n",
       "      <td>1</td>\n",
       "      <td>1172</td>\n",
       "      <td>4.0</td>\n",
       "      <td>1260759205</td>\n",
       "    </tr>\n",
       "  </tbody>\n",
       "</table>\n",
       "</div>"
      ],
      "text/plain": [
       "   userId  movieId  rating   timestamp\n",
       "0       1       31     2.5  1260759144\n",
       "1       1     1029     3.0  1260759179\n",
       "2       1     1061     3.0  1260759182\n",
       "3       1     1129     2.0  1260759185\n",
       "4       1     1172     4.0  1260759205"
      ]
     },
     "execution_count": 2,
     "metadata": {},
     "output_type": "execute_result"
    }
   ],
   "source": [
    "# Import the ratings dataset\n",
    "ratings = pd.read_csv('ml-latest-small/ratings.csv')\n",
    "ratings.head()"
   ]
  },
  {
   "cell_type": "code",
   "execution_count": 3,
   "metadata": {},
   "outputs": [
    {
     "name": "stdout",
     "output_type": "stream",
     "text": [
      "The dataset contains:  100004  ratings of  9125  movies.\n"
     ]
    }
   ],
   "source": [
    "#Now that we know the structure of our dataset, how many records do we have in each of these tables?\n",
    "print('The dataset contains: ', len(ratings), ' ratings of ', len(movies), ' movies.')"
   ]
  },
  {
   "cell_type": "markdown",
   "metadata": {},
   "source": [
    "## Romance vs. Scifi\n",
    "Let's start by taking a subset of users, and seeing what their preferred genres are. We're hiding the most data preprocessing in helper functions so the focus is on the topic of clustering. It would be useful if you skim helper.py to see how these helper functions are implemented after finishing this notebook."
   ]
  },
  {
   "cell_type": "code",
   "execution_count": 4,
   "metadata": {},
   "outputs": [
    {
     "data": {
      "text/html": [
       "<div>\n",
       "<style>\n",
       "    .dataframe thead tr:only-child th {\n",
       "        text-align: right;\n",
       "    }\n",
       "\n",
       "    .dataframe thead th {\n",
       "        text-align: left;\n",
       "    }\n",
       "\n",
       "    .dataframe tbody tr th {\n",
       "        vertical-align: top;\n",
       "    }\n",
       "</style>\n",
       "<table border=\"1\" class=\"dataframe\">\n",
       "  <thead>\n",
       "    <tr style=\"text-align: right;\">\n",
       "      <th></th>\n",
       "      <th>avg_romance_rating</th>\n",
       "      <th>avg_scifi_rating</th>\n",
       "    </tr>\n",
       "    <tr>\n",
       "      <th>userId</th>\n",
       "      <th></th>\n",
       "      <th></th>\n",
       "    </tr>\n",
       "  </thead>\n",
       "  <tbody>\n",
       "    <tr>\n",
       "      <th>1</th>\n",
       "      <td>3.50</td>\n",
       "      <td>2.40</td>\n",
       "    </tr>\n",
       "    <tr>\n",
       "      <th>2</th>\n",
       "      <td>3.59</td>\n",
       "      <td>3.80</td>\n",
       "    </tr>\n",
       "    <tr>\n",
       "      <th>3</th>\n",
       "      <td>3.65</td>\n",
       "      <td>3.14</td>\n",
       "    </tr>\n",
       "    <tr>\n",
       "      <th>4</th>\n",
       "      <td>4.50</td>\n",
       "      <td>4.26</td>\n",
       "    </tr>\n",
       "    <tr>\n",
       "      <th>5</th>\n",
       "      <td>4.08</td>\n",
       "      <td>4.00</td>\n",
       "    </tr>\n",
       "  </tbody>\n",
       "</table>\n",
       "</div>"
      ],
      "text/plain": [
       "        avg_romance_rating  avg_scifi_rating\n",
       "userId                                      \n",
       "1                     3.50              2.40\n",
       "2                     3.59              3.80\n",
       "3                     3.65              3.14\n",
       "4                     4.50              4.26\n",
       "5                     4.08              4.00"
      ]
     },
     "execution_count": 4,
     "metadata": {},
     "output_type": "execute_result"
    }
   ],
   "source": [
    "# Calculate the average rating of romance and scifi movies\n",
    "genre_ratings = helper.get_genre_ratings(ratings, movies, ['Romance', 'Sci-Fi'], ['avg_romance_rating', 'avg_scifi_rating'])\n",
    "genre_ratings.head()"
   ]
  },
  {
   "cell_type": "markdown",
   "metadata": {},
   "source": [
    "The function `get_genre_ratings` calculated each user's average rating of all romance movies and all scifi movies. Let's bias our dataset a little by removing people who like both scifi and romance, just so that our clusters tend to define them as liking one genre more than the other."
   ]
  },
  {
   "cell_type": "code",
   "execution_count": 5,
   "metadata": {},
   "outputs": [
    {
     "name": "stdout",
     "output_type": "stream",
     "text": [
      "Number of records:  183\n"
     ]
    },
    {
     "data": {
      "text/html": [
       "<div>\n",
       "<style>\n",
       "    .dataframe thead tr:only-child th {\n",
       "        text-align: right;\n",
       "    }\n",
       "\n",
       "    .dataframe thead th {\n",
       "        text-align: left;\n",
       "    }\n",
       "\n",
       "    .dataframe tbody tr th {\n",
       "        vertical-align: top;\n",
       "    }\n",
       "</style>\n",
       "<table border=\"1\" class=\"dataframe\">\n",
       "  <thead>\n",
       "    <tr style=\"text-align: right;\">\n",
       "      <th></th>\n",
       "      <th>userId</th>\n",
       "      <th>avg_romance_rating</th>\n",
       "      <th>avg_scifi_rating</th>\n",
       "    </tr>\n",
       "  </thead>\n",
       "  <tbody>\n",
       "    <tr>\n",
       "      <th>0</th>\n",
       "      <td>1</td>\n",
       "      <td>3.50</td>\n",
       "      <td>2.40</td>\n",
       "    </tr>\n",
       "    <tr>\n",
       "      <th>1</th>\n",
       "      <td>3</td>\n",
       "      <td>3.65</td>\n",
       "      <td>3.14</td>\n",
       "    </tr>\n",
       "    <tr>\n",
       "      <th>2</th>\n",
       "      <td>6</td>\n",
       "      <td>2.90</td>\n",
       "      <td>2.75</td>\n",
       "    </tr>\n",
       "    <tr>\n",
       "      <th>3</th>\n",
       "      <td>7</td>\n",
       "      <td>2.93</td>\n",
       "      <td>3.36</td>\n",
       "    </tr>\n",
       "    <tr>\n",
       "      <th>4</th>\n",
       "      <td>12</td>\n",
       "      <td>2.89</td>\n",
       "      <td>2.62</td>\n",
       "    </tr>\n",
       "  </tbody>\n",
       "</table>\n",
       "</div>"
      ],
      "text/plain": [
       "   userId  avg_romance_rating  avg_scifi_rating\n",
       "0       1                3.50              2.40\n",
       "1       3                3.65              3.14\n",
       "2       6                2.90              2.75\n",
       "3       7                2.93              3.36\n",
       "4      12                2.89              2.62"
      ]
     },
     "execution_count": 5,
     "metadata": {},
     "output_type": "execute_result"
    }
   ],
   "source": [
    "biased_dataset = helper.bias_genre_rating_dataset(genre_ratings, 3.2, 2.5)\n",
    "\n",
    "print( \"Number of records: \", len(biased_dataset))\n",
    "biased_dataset.head()"
   ]
  },
  {
   "cell_type": "markdown",
   "metadata": {},
   "source": [
    "So we can see we have 183 users, and for each user we have their average rating of the romance and sci movies they've watched.\n",
    "\n",
    "Let us plot this dataset:"
   ]
  },
  {
   "cell_type": "code",
   "execution_count": 6,
   "metadata": {},
   "outputs": [
    {
     "data": {
      "image/png": "[encoded data removed]",
      "text/plain": [
       "<matplotlib.figure.Figure at 0x258b41ae978>"
      ]
     },
     "metadata": {},
     "output_type": "display_data"
    }
   ],
   "source": [
    "%matplotlib inline\n",
    "\n",
    "\n",
    "helper.draw_scatterplot(biased_dataset['avg_scifi_rating'],'Avg scifi rating', biased_dataset['avg_romance_rating'], 'Avg romance rating')"
   ]
  },
  {
   "cell_type": "markdown",
   "metadata": {},
   "source": [
    "We can see come clear bias in this sample (that we created on purpose). How would it look if we break the sample down into two groups using k-means?"
   ]
  },
  {
   "cell_type": "code",
   "execution_count": 7,
   "metadata": {},
   "outputs": [
    {
     "name": "stdout",
     "output_type": "stream",
     "text": [
      "[[ 2.4   3.5 ]\n",
      " [ 3.14  3.65]\n",
      " [ 2.75  2.9 ]\n",
      " [ 3.36  2.93]\n",
      " [ 2.62  2.89]\n",
      " [ 2.51  2.61]\n",
      " [ 3.12  3.31]\n",
      " [ 3.07  3.76]\n",
      " [ 3.17  3.  ]\n",
      " [ 3.    0.88]\n",
      " [ 2.83  3.3 ]\n",
      " [ 2.17  2.92]\n",
      " [ 3.    4.25]\n",
      " [ 2.7   3.33]\n",
      " [ 2.    3.96]\n",
      " [ 3.12  3.75]\n",
      " [ 2.65  2.75]\n",
      " [ 3.09  3.41]\n",
      " [ 3.43  2.93]\n",
      " [ 2.72  2.33]\n",
      " [ 2.5   4.33]\n",
      " [ 2.77  3.67]\n",
      " [ 2.89  3.  ]\n",
      " [ 2.93  3.68]\n",
      " [ 3.02  2.87]\n",
      " [ 2.38  3.81]\n",
      " [ 4.06  2.5 ]\n",
      " [ 3.17  3.35]\n",
      " [ 3.    2.17]\n",
      " [ 0.5   4.18]\n",
      " [ 3.14  3.68]\n",
      " [ 2.75  3.09]\n",
      " [ 3.    4.22]\n",
      " [ 2.    3.4 ]\n",
      " [ 3.18  3.39]\n",
      " [ 2.98  2.42]\n",
      " [ 2.67  3.  ]\n",
      " [ 2.57  2.6 ]\n",
      " [ 2.55  4.5 ]\n",
      " [ 3.59  2.93]\n",
      " [ 3.02  3.14]\n",
      " [ 3.17  4.56]\n",
      " [ 2.5   4.09]\n",
      " [ 3.    3.29]\n",
      " [ 2.83  3.89]\n",
      " [ 2.99  2.91]\n",
      " [ 2.5   3.  ]\n",
      " [ 3.    4.5 ]\n",
      " [ 3.    3.4 ]\n",
      " [ 3.17  3.44]\n",
      " [ 3.04  3.06]\n",
      " [ 2.5   3.86]\n",
      " [ 3.    3.78]\n",
      " [ 3.19  3.68]\n",
      " [ 2.67  3.25]\n",
      " [ 2.8   3.62]\n",
      " [ 2.84  2.9 ]\n",
      " [ 2.    3.2 ]\n",
      " [ 3.33  2.88]\n",
      " [ 2.97  3.26]\n",
      " [ 2.9   2.44]\n",
      " [ 2.85  3.53]\n",
      " [ 3.    2.83]\n",
      " [ 2.83  3.35]\n",
      " [ 3.07  2.92]\n",
      " [ 3.    2.78]\n",
      " [ 1.    3.43]\n",
      " [ 2.    3.67]\n",
      " [ 2.59  2.39]\n",
      " [ 3.03  3.27]\n",
      " [ 2.    4.  ]\n",
      " [ 3.75  2.  ]\n",
      " [ 2.75  2.67]\n",
      " [ 3.    3.64]\n",
      " [ 3.8   2.89]\n",
      " [ 3.    3.5 ]\n",
      " [ 2.    3.62]\n",
      " [ 2.85  3.06]\n",
      " [ 2.63  3.41]\n",
      " [ 3.19  3.49]\n",
      " [ 3.    3.44]\n",
      " [ 2.    4.11]\n",
      " [ 3.25  2.25]\n",
      " [ 3.    3.7 ]\n",
      " [ 2.83  4.  ]\n",
      " [ 2.5   3.33]\n",
      " [ 4.5   1.  ]\n",
      " [ 2.9   4.67]\n",
      " [ 0.5   3.9 ]\n",
      " [ 4.21  2.75]\n",
      " [ 3.17  4.5 ]\n",
      " [ 2.5   2.58]\n",
      " [ 2.85  3.29]\n",
      " [ 2.83  3.5 ]\n",
      " [ 1.56  3.75]\n",
      " [ 2.85  4.14]\n",
      " [ 2.    4.  ]\n",
      " [ 2.8   3.55]\n",
      " [ 3.    2.62]\n",
      " [ 2.62  3.21]\n",
      " [ 2.4   3.74]\n",
      " [ 2.47  3.08]\n",
      " [ 3.08  3.4 ]\n",
      " [ 2.46  2.86]\n",
      " [ 2.5   3.7 ]\n",
      " [ 2.5   3.91]\n",
      " [ 3.67  2.87]\n",
      " [ 3.56  2.  ]\n",
      " [ 3.19  3.37]\n",
      " [ 3.    3.75]\n",
      " [ 2.68  3.07]\n",
      " [ 2.5   3.23]\n",
      " [ 2.9   3.41]\n",
      " [ 3.    3.55]\n",
      " [ 2.17  3.2 ]\n",
      " [ 3.    3.96]\n",
      " [ 3.5   2.3 ]\n",
      " [ 2.86  1.58]\n",
      " [ 2.5   2.9 ]\n",
      " [ 3.13  3.92]\n",
      " [ 2.33  3.5 ]\n",
      " [ 2.84  3.22]\n",
      " [ 2.86  3.1 ]\n",
      " [ 3.11  3.04]\n",
      " [ 2.05  2.57]\n",
      " [ 2.72  2.86]\n",
      " [ 2.92  3.33]\n",
      " [ 3.    3.82]\n",
      " [ 2.68  2.83]\n",
      " [ 2.76  2.82]\n",
      " [ 2.38  2.83]\n",
      " [ 3.    3.67]\n",
      " [ 3.    3.5 ]\n",
      " [ 2.67  3.47]\n",
      " [ 2.93  3.07]\n",
      " [ 1.81  3.39]\n",
      " [ 2.67  2.  ]\n",
      " [ 2.9   3.39]\n",
      " [ 3.17  3.5 ]\n",
      " [ 3.1   3.24]\n",
      " [ 2.75  3.46]\n",
      " [ 3.1   3.02]\n",
      " [ 3.3   2.93]\n",
      " [ 3.02  3.34]\n",
      " [ 2.89  3.5 ]\n",
      " [ 2.81  3.34]\n",
      " [ 3.    2.33]\n",
      " [ 2.33  3.2 ]\n",
      " [ 3.    3.86]\n",
      " [ 2.57  3.  ]\n",
      " [ 4.    1.75]\n",
      " [ 3.17  2.75]\n",
      " [ 2.    4.27]\n",
      " [ 2.66  4.06]\n",
      " [ 2.67  3.64]\n",
      " [ 3.    3.59]\n",
      " [ 1.83  3.19]\n",
      " [ 3.07  3.36]\n",
      " [ 3.17  4.2 ]\n",
      " [ 3.09  3.81]\n",
      " [ 2.67  3.04]\n",
      " [ 2.9   4.19]\n",
      " [ 2.17  3.71]\n",
      " [ 2.6   3.06]\n",
      " [ 3.    3.67]\n",
      " [ 2.88  3.04]\n",
      " [ 2.69  2.8 ]\n",
      " [ 2.79  3.  ]\n",
      " [ 3.42  2.66]\n",
      " [ 2.4   4.  ]\n",
      " [ 3.17  4.58]\n",
      " [ 2.8   3.  ]\n",
      " [ 2.3   3.5 ]\n",
      " [ 2.71  3.25]\n",
      " [ 2.71  3.38]\n",
      " [ 4.83  2.  ]\n",
      " [ 2.58  3.63]\n",
      " [ 2.45  3.46]\n",
      " [ 3.    3.44]\n",
      " [ 2.8   2.4 ]\n",
      " [ 2.88  3.25]\n",
      " [ 2.4   3.5 ]\n",
      " [ 3.8   3.59]]\n"
     ]
    }
   ],
   "source": [
    "# Let's turn our dataset into a list\n",
    "X = biased_dataset[['avg_scifi_rating','avg_romance_rating']].values\n",
    "print(X)"
   ]
  },
  {
   "cell_type": "code",
   "execution_count": 8,
   "metadata": {},
   "outputs": [
    {
     "data": {
      "image/png": "[encoded data removed]",
      "text/plain": [
       "<matplotlib.figure.Figure at 0x258b4580588>"
      ]
     },
     "metadata": {},
     "output_type": "display_data"
    }
   ],
   "source": [
    "# TODO: Import KMeans\n",
    "from sklearn.cluster import KMeans \n",
    "\n",
    "# TODO: Create an instance of KMeans to find two clusters\n",
    "kmeans_1 = KMeans(n_clusters=2)\n",
    "\n",
    "# TODO: use fit_predict to cluster the dataset\n",
    "predictions = kmeans_1.fit_predict(X) \n",
    "\n",
    "# Plot\n",
    "helper.draw_clusters(biased_dataset, predictions)"
   ]
  },
  {
   "cell_type": "markdown",
   "metadata": {},
   "source": [
    "We can see that the groups are mostly based on how each person rated romance movies. If their average rating of romance movies is over 3 stars, then they belong to one group. Otherwise, they belong to the other group.\n",
    "\n",
    "What would happen if we break them down into three groups?"
   ]
  },
  {
   "cell_type": "code",
   "execution_count": 9,
   "metadata": {},
   "outputs": [
    {
     "data": {
      "image/png": "[encoded data removed]",
      "text/plain": [
       "<matplotlib.figure.Figure at 0x258b4719ac8>"
      ]
     },
     "metadata": {},
     "output_type": "display_data"
    }
   ],
   "source": [
    "# TODO: Create an instance of KMeans to find three clusters\n",
    "kmeans_2 = KMeans(n_clusters=3)\n",
    "\n",
    "# TODO: use fit_predict to cluster the dataset\n",
    "predictions_2 = kmeans_2.fit_predict(X)\n",
    "\n",
    "# Plot\n",
    "helper.draw_clusters(biased_dataset, predictions_2)"
   ]
  },
  {
   "cell_type": "markdown",
   "metadata": {},
   "source": [
    "Now the average scifi rating is starting to come into play. The groups are:\n",
    " * people who like romance but not scifi\n",
    " * people who like scifi but not romance\n",
    " * people who like both scifi and romance\n",
    " \n",
    "Let's add one more group"
   ]
  },
  {
   "cell_type": "code",
   "execution_count": 10,
   "metadata": {},
   "outputs": [
    {
     "data": {
      "image/png": "[encoded data removed]",
      "text/plain": [
       "<matplotlib.figure.Figure at 0x258b4784898>"
      ]
     },
     "metadata": {},
     "output_type": "display_data"
    }
   ],
   "source": [
    "# TODO: Create an instance of KMeans to find three clusters\n",
    "kmeans_3 = KMeans(n_clusters=4)\n",
    "\n",
    "# TODO: use fit_predict to cluster the dataset\n",
    "predictions_3 = kmeans_3.fit_predict(X)\n",
    "\n",
    "# Plot\n",
    "helper.draw_clusters(biased_dataset, predictions_3)"
   ]
  },
  {
   "cell_type": "markdown",
   "metadata": {},
   "source": [
    "We can see that the more clusters we break our dataset down into, the more similar the tastes of the population of each cluster to each other.\n",
    "\n",
    "## Choosing K\n",
    "Great, so we can cluster our points into any number of clusters. What's the right number of clusters for this dataset?\n",
    "\n",
    "There are [several](https://en.wikipedia.org/wiki/Determining_the_number_of_clusters_in_a_data_set) ways of choosing the number of clusters, k. We'll look at a simple one called \"the elbow method\". The elbow method works by plotting the ascending values of k versus the total error calculated using that k. \n",
    "\n",
    "How do we calculate total error?\n",
    "One way to calculate the error is squared error. Say we're calculating the error for k=2. We'd have two clusters each having one \"centroid\" point. For each point in our dataset, we'd subtract its coordinates from the centroid of the cluster it belongs to. We then square the result of that subtraction (to get rid of the negative values), and sum the values. This would leave us with an error value for each point. If we sum these error values, we'd get the total error for all points when k=2.\n",
    "\n",
    "Our mission now is to do the same for each k (between 1 and, say, the number of elements in our dataset)"
   ]
  },
  {
   "cell_type": "code",
   "execution_count": 11,
   "metadata": {},
   "outputs": [],
   "source": [
    "df = biased_dataset[['avg_scifi_rating','avg_romance_rating']]\n",
    "\n",
    "# Choose the range of k values to test.\n",
    "# We added a stride of 5 to improve performance. We don't need to calculate the error for every k value\n",
    "possible_k_values = range(2, len(X)+1, 5)\n",
    "\n",
    "# Calculate error values for all k values we're interested in\n",
    "errors_per_k = [helper.clustering_errors(k, X) for k in possible_k_values]\n"
   ]
  },
  {
   "cell_type": "code",
   "execution_count": 12,
   "metadata": {},
   "outputs": [
    {
     "data": {
      "text/plain": [
       "[(2, 0.35588178764728268),\n",
       " (7, 0.39237067416617283),\n",
       " (12, 0.34608523074939834),\n",
       " (17, 0.37118066269176092),\n",
       " (22, 0.36819625124741168),\n",
       " (27, 0.37188732882579301),\n",
       " (32, 0.36966299621245802),\n",
       " (37, 0.37004834499690037),\n",
       " (42, 0.38367033996933514),\n",
       " (47, 0.36154063598748054),\n",
       " (52, 0.3662705857915674),\n",
       " (57, 0.35299351352755076),\n",
       " (62, 0.35715264166266514),\n",
       " (67, 0.33523876409972059),\n",
       " (72, 0.33099595760917411),\n",
       " (77, 0.33862754309753795),\n",
       " (82, 0.33278839592029641),\n",
       " (87, 0.3357124775212767),\n",
       " (92, 0.32513653246991947),\n",
       " (97, 0.32115760923143111),\n",
       " (102, 0.28899212124507473),\n",
       " (107, 0.29956697005711269),\n",
       " (112, 0.28559195808114035),\n",
       " (117, 0.27772719175238347),\n",
       " (122, 0.25722268058729386),\n",
       " (127, 0.25752948541866844),\n",
       " (132, 0.25461790714552368),\n",
       " (137, 0.23529209684986269),\n",
       " (142, 0.21604936783574849),\n",
       " (147, 0.2098240384373482),\n",
       " (152, 0.18722856283664085),\n",
       " (157, 0.16781221204619262),\n",
       " (162, 0.1556499460287056),\n",
       " (167, 0.12820427579529109),\n",
       " (172, 0.10075966098920461),\n",
       " (177, 0.064230120163174503),\n",
       " (182, 0.054644808743169397)]"
      ]
     },
     "execution_count": 12,
     "metadata": {},
     "output_type": "execute_result"
    }
   ],
   "source": [
    "# Optional: Look at the values of K vs the silhouette score of running K-means with that value of k\n",
    "list(zip(possible_k_values, errors_per_k))"
   ]
  },
  {
   "cell_type": "code",
   "execution_count": 12,
   "metadata": {},
   "outputs": [
    {
     "data": {
      "image/png": "[encoded data removed]",
      "text/plain": [
       "<matplotlib.figure.Figure at 0x258b49aea58>"
      ]
     },
     "metadata": {},
     "output_type": "display_data"
    }
   ],
   "source": [
    "# Plot the each value of K vs. the silhouette score at that value\n",
    "fig, ax = plt.subplots(figsize=(16, 6))\n",
    "plt.plot(possible_k_values, errors_per_k)\n",
    "\n",
    "# Ticks and grid\n",
    "xticks = np.arange(min(possible_k_values), max(possible_k_values)+1, 5.0)\n",
    "ax.set_xticks(xticks, minor=False)\n",
    "ax.set_xticks(xticks, minor=True)\n",
    "ax.xaxis.grid(True, which='both')\n",
    "yticks = np.arange(round(min(errors_per_k), 2), max(errors_per_k), .05)\n",
    "ax.set_yticks(yticks, minor=False)\n",
    "ax.set_yticks(yticks, minor=True)\n",
    "ax.yaxis.grid(True, which='both')"
   ]
  },
  {
   "cell_type": "markdown",
   "metadata": {},
   "source": [
    "Looking at this graph, good choices for k include 7, 22, 27, 32, amongst other values (with a slight variation between different runs). Increasing the number of clusters (k) beyond that range starts to result in worse clusters (according to Silhouette score)\n",
    "\n",
    "My pick would be k=7 because it's easier to visualize:"
   ]
  },
  {
   "cell_type": "code",
   "execution_count": 13,
   "metadata": {},
   "outputs": [
    {
     "data": {
      "image/png": "[encoded data removed]",
      "text/plain": [
       "<matplotlib.figure.Figure at 0x258b47e10b8>"
      ]
     },
     "metadata": {},
     "output_type": "display_data"
    }
   ],
   "source": [
    "# TODO: Create an instance of KMeans to find seven clusters\n",
    "kmeans_4 = KMeans(n_clusters=7)\n",
    "\n",
    "# TODO: use fit_predict to cluster the dataset\n",
    "predictions_4 = kmeans_4.fit_predict(X)\n",
    "\n",
    "# Plot\n",
    "helper.draw_clusters(biased_dataset, predictions_4, cmap='Accent')"
   ]
  },
  {
   "cell_type": "markdown",
   "metadata": {},
   "source": [
    "Note: As you try to plot larger values of k (more than 10), you'll have to make sure your plotting library is not reusing colors between clusters. For this plot, we had to use the [matplotlib colormap](https://matplotlib.org/examples/color/colormaps_reference.html) 'Accent' because other colormaps either did not show enough contrast between colors, or were recycling colors past 8 or 10 clusters."
   ]
  },
  {
   "cell_type": "markdown",
   "metadata": {},
   "source": [
    "\n",
    "## Throwing some Action into the mix\n",
    "So far, we've only been looking at how users rated romance and scifi movies. Let's throw another genre into the mix. Let's add the Action genre.\n",
    "\n",
    "Our dataset now looks like this:"
   ]
  },
  {
   "cell_type": "code",
   "execution_count": 14,
   "metadata": {},
   "outputs": [
    {
     "name": "stdout",
     "output_type": "stream",
     "text": [
      "Number of records:  183\n"
     ]
    },
    {
     "data": {
      "text/html": [
       "<div>\n",
       "<style>\n",
       "    .dataframe thead tr:only-child th {\n",
       "        text-align: right;\n",
       "    }\n",
       "\n",
       "    .dataframe thead th {\n",
       "        text-align: left;\n",
       "    }\n",
       "\n",
       "    .dataframe tbody tr th {\n",
       "        vertical-align: top;\n",
       "    }\n",
       "</style>\n",
       "<table border=\"1\" class=\"dataframe\">\n",
       "  <thead>\n",
       "    <tr style=\"text-align: right;\">\n",
       "      <th></th>\n",
       "      <th>userId</th>\n",
       "      <th>avg_romance_rating</th>\n",
       "      <th>avg_scifi_rating</th>\n",
       "      <th>avg_action_rating</th>\n",
       "    </tr>\n",
       "  </thead>\n",
       "  <tbody>\n",
       "    <tr>\n",
       "      <th>0</th>\n",
       "      <td>1</td>\n",
       "      <td>3.50</td>\n",
       "      <td>2.40</td>\n",
       "      <td>2.80</td>\n",
       "    </tr>\n",
       "    <tr>\n",
       "      <th>1</th>\n",
       "      <td>3</td>\n",
       "      <td>3.65</td>\n",
       "      <td>3.14</td>\n",
       "      <td>3.47</td>\n",
       "    </tr>\n",
       "    <tr>\n",
       "      <th>2</th>\n",
       "      <td>6</td>\n",
       "      <td>2.90</td>\n",
       "      <td>2.75</td>\n",
       "      <td>3.27</td>\n",
       "    </tr>\n",
       "    <tr>\n",
       "      <th>3</th>\n",
       "      <td>7</td>\n",
       "      <td>2.93</td>\n",
       "      <td>3.36</td>\n",
       "      <td>3.29</td>\n",
       "    </tr>\n",
       "    <tr>\n",
       "      <th>4</th>\n",
       "      <td>12</td>\n",
       "      <td>2.89</td>\n",
       "      <td>2.62</td>\n",
       "      <td>3.21</td>\n",
       "    </tr>\n",
       "  </tbody>\n",
       "</table>\n",
       "</div>"
      ],
      "text/plain": [
       "   userId  avg_romance_rating  avg_scifi_rating  avg_action_rating\n",
       "0       1                3.50              2.40               2.80\n",
       "1       3                3.65              3.14               3.47\n",
       "2       6                2.90              2.75               3.27\n",
       "3       7                2.93              3.36               3.29\n",
       "4      12                2.89              2.62               3.21"
      ]
     },
     "execution_count": 14,
     "metadata": {},
     "output_type": "execute_result"
    }
   ],
   "source": [
    "biased_dataset_3_genres = helper.get_genre_ratings(ratings, movies, \n",
    "                                                     ['Romance', 'Sci-Fi', 'Action'], \n",
    "                                                     ['avg_romance_rating', 'avg_scifi_rating', 'avg_action_rating'])\n",
    "biased_dataset_3_genres = helper.bias_genre_rating_dataset(biased_dataset_3_genres, 3.2, 2.5).dropna()\n",
    "\n",
    "print( \"Number of records: \", len(biased_dataset_3_genres))\n",
    "biased_dataset_3_genres.head()"
   ]
  },
  {
   "cell_type": "code",
   "execution_count": 15,
   "metadata": {},
   "outputs": [],
   "source": [
    "X_with_action = biased_dataset_3_genres[['avg_scifi_rating',\n",
    "                                                           'avg_romance_rating', \n",
    "                                                           'avg_action_rating']].values"
   ]
  },
  {
   "cell_type": "code",
   "execution_count": 18,
   "metadata": {},
   "outputs": [
    {
     "data": {
      "image/png": "[encoded data removed]",
      "text/plain": [
       "<matplotlib.figure.Figure at 0x24081a2efd0>"
      ]
     },
     "metadata": {},
     "output_type": "display_data"
    }
   ],
   "source": [
    "# TODO: Create an instance of KMeans to find seven clusters\n",
    "kmeans_5 = KMeans(n_clusters=7)\n",
    "\n",
    "# TODO: use fit_predict to cluster the dataset\n",
    "predictions_5 = kmeans_5.fit_predict(X_with_action)\n",
    "\n",
    "# plot\n",
    "helper.draw_clusters_3d(biased_dataset_3_genres, predictions_5)"
   ]
  },
  {
   "cell_type": "markdown",
   "metadata": {},
   "source": [
    "We're still using the x and y axes for scifi and romance respectively. We are using the size of the dot to roughly code the 'action' rating (large dot for avg ratings over than 3, small dot otherwise).\n",
    "\n",
    "We can start seeing the added genre is changing how the users are clustered. The more data we give to k-means, the more similar the tastes of the people in each group would be. Unfortunately, though, we lose the ability to visualize what's going on past two or three dimensions if we continue to plot it this way. In the next section, we'll start using a different kind of plot to be able to see clusters with up to fifty dimensions.\n",
    "\n",
    "## Movie-level Clustering\n",
    "Now that we've established some trust in how k-means clusters users based on their genre tastes, let's take a bigger bite and look at how users rated individual movies. To do that, we'll shape the dataset in the form of userId vs user rating for each movie. For example, let's look at a subset of the dataset:"
   ]
  },
  {
   "cell_type": "code",
   "execution_count": 16,
   "metadata": {},
   "outputs": [
    {
     "name": "stdout",
     "output_type": "stream",
     "text": [
      "dataset dimensions:  (671, 9064) \n",
      "\n",
      "Subset example:\n"
     ]
    },
    {
     "data": {
      "text/html": [
       "<div>\n",
       "<style>\n",
       "    .dataframe thead tr:only-child th {\n",
       "        text-align: right;\n",
       "    }\n",
       "\n",
       "    .dataframe thead th {\n",
       "        text-align: left;\n",
       "    }\n",
       "\n",
       "    .dataframe tbody tr th {\n",
       "        vertical-align: top;\n",
       "    }\n",
       "</style>\n",
       "<table border=\"1\" class=\"dataframe\">\n",
       "  <thead>\n",
       "    <tr style=\"text-align: right;\">\n",
       "      <th>title</th>\n",
       "      <th>\"Great Performances\" Cats (1998)</th>\n",
       "      <th>$9.99 (2008)</th>\n",
       "      <th>'Hellboy': The Seeds of Creation (2004)</th>\n",
       "      <th>'Neath the Arizona Skies (1934)</th>\n",
       "      <th>'Round Midnight (1986)</th>\n",
       "      <th>'Salem's Lot (2004)</th>\n",
       "      <th>'Til There Was You (1997)</th>\n",
       "      <th>'burbs, The (1989)</th>\n",
       "      <th>'night Mother (1986)</th>\n",
       "      <th>(500) Days of Summer (2009)</th>\n",
       "    </tr>\n",
       "    <tr>\n",
       "      <th>userId</th>\n",
       "      <th></th>\n",
       "      <th></th>\n",
       "      <th></th>\n",
       "      <th></th>\n",
       "      <th></th>\n",
       "      <th></th>\n",
       "      <th></th>\n",
       "      <th></th>\n",
       "      <th></th>\n",
       "      <th></th>\n",
       "    </tr>\n",
       "  </thead>\n",
       "  <tbody>\n",
       "    <tr>\n",
       "      <th>1</th>\n",
       "      <td>NaN</td>\n",
       "      <td>NaN</td>\n",
       "      <td>NaN</td>\n",
       "      <td>NaN</td>\n",
       "      <td>NaN</td>\n",
       "      <td>NaN</td>\n",
       "      <td>NaN</td>\n",
       "      <td>NaN</td>\n",
       "      <td>NaN</td>\n",
       "      <td>NaN</td>\n",
       "    </tr>\n",
       "    <tr>\n",
       "      <th>2</th>\n",
       "      <td>NaN</td>\n",
       "      <td>NaN</td>\n",
       "      <td>NaN</td>\n",
       "      <td>NaN</td>\n",
       "      <td>NaN</td>\n",
       "      <td>NaN</td>\n",
       "      <td>NaN</td>\n",
       "      <td>NaN</td>\n",
       "      <td>NaN</td>\n",
       "      <td>NaN</td>\n",
       "    </tr>\n",
       "    <tr>\n",
       "      <th>3</th>\n",
       "      <td>NaN</td>\n",
       "      <td>NaN</td>\n",
       "      <td>NaN</td>\n",
       "      <td>NaN</td>\n",
       "      <td>NaN</td>\n",
       "      <td>NaN</td>\n",
       "      <td>NaN</td>\n",
       "      <td>NaN</td>\n",
       "      <td>NaN</td>\n",
       "      <td>NaN</td>\n",
       "    </tr>\n",
       "    <tr>\n",
       "      <th>4</th>\n",
       "      <td>NaN</td>\n",
       "      <td>NaN</td>\n",
       "      <td>NaN</td>\n",
       "      <td>NaN</td>\n",
       "      <td>NaN</td>\n",
       "      <td>NaN</td>\n",
       "      <td>NaN</td>\n",
       "      <td>NaN</td>\n",
       "      <td>NaN</td>\n",
       "      <td>NaN</td>\n",
       "    </tr>\n",
       "    <tr>\n",
       "      <th>5</th>\n",
       "      <td>NaN</td>\n",
       "      <td>NaN</td>\n",
       "      <td>NaN</td>\n",
       "      <td>NaN</td>\n",
       "      <td>NaN</td>\n",
       "      <td>NaN</td>\n",
       "      <td>NaN</td>\n",
       "      <td>NaN</td>\n",
       "      <td>NaN</td>\n",
       "      <td>NaN</td>\n",
       "    </tr>\n",
       "    <tr>\n",
       "      <th>6</th>\n",
       "      <td>NaN</td>\n",
       "      <td>NaN</td>\n",
       "      <td>NaN</td>\n",
       "      <td>NaN</td>\n",
       "      <td>NaN</td>\n",
       "      <td>NaN</td>\n",
       "      <td>NaN</td>\n",
       "      <td>4.0</td>\n",
       "      <td>NaN</td>\n",
       "      <td>NaN</td>\n",
       "    </tr>\n",
       "  </tbody>\n",
       "</table>\n",
       "</div>"
      ],
      "text/plain": [
       "title   \"Great Performances\" Cats (1998)  $9.99 (2008)  \\\n",
       "userId                                                   \n",
       "1                                    NaN           NaN   \n",
       "2                                    NaN           NaN   \n",
       "3                                    NaN           NaN   \n",
       "4                                    NaN           NaN   \n",
       "5                                    NaN           NaN   \n",
       "6                                    NaN           NaN   \n",
       "\n",
       "title   'Hellboy': The Seeds of Creation (2004)  \\\n",
       "userId                                            \n",
       "1                                           NaN   \n",
       "2                                           NaN   \n",
       "3                                           NaN   \n",
       "4                                           NaN   \n",
       "5                                           NaN   \n",
       "6                                           NaN   \n",
       "\n",
       "title   'Neath the Arizona Skies (1934)  'Round Midnight (1986)  \\\n",
       "userId                                                            \n",
       "1                                   NaN                     NaN   \n",
       "2                                   NaN                     NaN   \n",
       "3                                   NaN                     NaN   \n",
       "4                                   NaN                     NaN   \n",
       "5                                   NaN                     NaN   \n",
       "6                                   NaN                     NaN   \n",
       "\n",
       "title   'Salem's Lot (2004)  'Til There Was You (1997)  'burbs, The (1989)  \\\n",
       "userId                                                                       \n",
       "1                       NaN                        NaN                 NaN   \n",
       "2                       NaN                        NaN                 NaN   \n",
       "3                       NaN                        NaN                 NaN   \n",
       "4                       NaN                        NaN                 NaN   \n",
       "5                       NaN                        NaN                 NaN   \n",
       "6                       NaN                        NaN                 4.0   \n",
       "\n",
       "title   'night Mother (1986)  (500) Days of Summer (2009)  \n",
       "userId                                                     \n",
       "1                        NaN                          NaN  \n",
       "2                        NaN                          NaN  \n",
       "3                        NaN                          NaN  \n",
       "4                        NaN                          NaN  \n",
       "5                        NaN                          NaN  \n",
       "6                        NaN                          NaN  "
      ]
     },
     "execution_count": 16,
     "metadata": {},
     "output_type": "execute_result"
    }
   ],
   "source": [
    "# Merge the two tables then pivot so we have Users X Movies dataframe\n",
    "ratings_title = pd.merge(ratings, movies[['movieId', 'title']], on='movieId' )\n",
    "user_movie_ratings = pd.pivot_table(ratings_title, index='userId', columns= 'title', values='rating')\n",
    "\n",
    "print('dataset dimensions: ', user_movie_ratings.shape, '\\n\\nSubset example:')\n",
    "user_movie_ratings.iloc[:6, :10]"
   ]
  },
  {
   "cell_type": "markdown",
   "metadata": {},
   "source": [
    "The dominance of NaN values presents the first issue. Most users have not rated and watched most movies. Datasets like this are called \"sparse\" because only a small number of cells have values. \n",
    "\n",
    "To get around this, let's sort by the most rated movies, and the users who have rated the most number of movies. That will present a more 'dense' region when we peak at the top of the dataset.\n",
    "\n",
    "If we're to choose the most-rated movies vs users with the most ratings, it would look like this:"
   ]
  },
  {
   "cell_type": "code",
   "execution_count": 17,
   "metadata": {},
   "outputs": [
    {
     "name": "stdout",
     "output_type": "stream",
     "text": [
      "dataset dimensions:  (18, 30)\n"
     ]
    },
    {
     "data": {
      "text/html": [
       "<div>\n",
       "<style>\n",
       "    .dataframe thead tr:only-child th {\n",
       "        text-align: right;\n",
       "    }\n",
       "\n",
       "    .dataframe thead th {\n",
       "        text-align: left;\n",
       "    }\n",
       "\n",
       "    .dataframe tbody tr th {\n",
       "        vertical-align: top;\n",
       "    }\n",
       "</style>\n",
       "<table border=\"1\" class=\"dataframe\">\n",
       "  <thead>\n",
       "    <tr style=\"text-align: right;\">\n",
       "      <th>title</th>\n",
       "      <th>Forrest Gump (1994)</th>\n",
       "      <th>Pulp Fiction (1994)</th>\n",
       "      <th>Shawshank Redemption, The (1994)</th>\n",
       "      <th>Silence of the Lambs, The (1991)</th>\n",
       "      <th>Star Wars: Episode IV - A New Hope (1977)</th>\n",
       "      <th>Jurassic Park (1993)</th>\n",
       "      <th>Matrix, The (1999)</th>\n",
       "      <th>Toy Story (1995)</th>\n",
       "      <th>Schindler's List (1993)</th>\n",
       "      <th>Terminator 2: Judgment Day (1991)</th>\n",
       "      <th>...</th>\n",
       "      <th>Dances with Wolves (1990)</th>\n",
       "      <th>Fight Club (1999)</th>\n",
       "      <th>Usual Suspects, The (1995)</th>\n",
       "      <th>Seven (a.k.a. Se7en) (1995)</th>\n",
       "      <th>Lion King, The (1994)</th>\n",
       "      <th>Godfather, The (1972)</th>\n",
       "      <th>Lord of the Rings: The Fellowship of the Ring, The (2001)</th>\n",
       "      <th>Apollo 13 (1995)</th>\n",
       "      <th>True Lies (1994)</th>\n",
       "      <th>Twelve Monkeys (a.k.a. 12 Monkeys) (1995)</th>\n",
       "    </tr>\n",
       "  </thead>\n",
       "  <tbody>\n",
       "    <tr>\n",
       "      <th>29</th>\n",
       "      <td>5.0</td>\n",
       "      <td>5.0</td>\n",
       "      <td>5.0</td>\n",
       "      <td>4.0</td>\n",
       "      <td>4.0</td>\n",
       "      <td>4.0</td>\n",
       "      <td>3.0</td>\n",
       "      <td>4.0</td>\n",
       "      <td>5.0</td>\n",
       "      <td>4.0</td>\n",
       "      <td>...</td>\n",
       "      <td>5.0</td>\n",
       "      <td>4.0</td>\n",
       "      <td>5.0</td>\n",
       "      <td>4.0</td>\n",
       "      <td>3.0</td>\n",
       "      <td>5.0</td>\n",
       "      <td>3.0</td>\n",
       "      <td>5.0</td>\n",
       "      <td>4.0</td>\n",
       "      <td>2.0</td>\n",
       "    </tr>\n",
       "    <tr>\n",
       "      <th>508</th>\n",
       "      <td>4.0</td>\n",
       "      <td>5.0</td>\n",
       "      <td>4.0</td>\n",
       "      <td>4.0</td>\n",
       "      <td>5.0</td>\n",
       "      <td>3.0</td>\n",
       "      <td>4.5</td>\n",
       "      <td>3.0</td>\n",
       "      <td>5.0</td>\n",
       "      <td>2.0</td>\n",
       "      <td>...</td>\n",
       "      <td>5.0</td>\n",
       "      <td>4.0</td>\n",
       "      <td>5.0</td>\n",
       "      <td>4.0</td>\n",
       "      <td>3.5</td>\n",
       "      <td>5.0</td>\n",
       "      <td>4.5</td>\n",
       "      <td>3.0</td>\n",
       "      <td>2.0</td>\n",
       "      <td>4.0</td>\n",
       "    </tr>\n",
       "    <tr>\n",
       "      <th>14</th>\n",
       "      <td>1.0</td>\n",
       "      <td>5.0</td>\n",
       "      <td>2.0</td>\n",
       "      <td>5.0</td>\n",
       "      <td>5.0</td>\n",
       "      <td>3.0</td>\n",
       "      <td>5.0</td>\n",
       "      <td>2.0</td>\n",
       "      <td>4.0</td>\n",
       "      <td>4.0</td>\n",
       "      <td>...</td>\n",
       "      <td>3.0</td>\n",
       "      <td>5.0</td>\n",
       "      <td>5.0</td>\n",
       "      <td>5.0</td>\n",
       "      <td>4.0</td>\n",
       "      <td>5.0</td>\n",
       "      <td>5.0</td>\n",
       "      <td>3.0</td>\n",
       "      <td>4.0</td>\n",
       "      <td>4.0</td>\n",
       "    </tr>\n",
       "    <tr>\n",
       "      <th>72</th>\n",
       "      <td>5.0</td>\n",
       "      <td>5.0</td>\n",
       "      <td>5.0</td>\n",
       "      <td>4.5</td>\n",
       "      <td>4.5</td>\n",
       "      <td>4.0</td>\n",
       "      <td>4.5</td>\n",
       "      <td>5.0</td>\n",
       "      <td>5.0</td>\n",
       "      <td>3.0</td>\n",
       "      <td>...</td>\n",
       "      <td>4.5</td>\n",
       "      <td>5.0</td>\n",
       "      <td>5.0</td>\n",
       "      <td>5.0</td>\n",
       "      <td>5.0</td>\n",
       "      <td>5.0</td>\n",
       "      <td>5.0</td>\n",
       "      <td>3.5</td>\n",
       "      <td>3.0</td>\n",
       "      <td>5.0</td>\n",
       "    </tr>\n",
       "    <tr>\n",
       "      <th>653</th>\n",
       "      <td>4.0</td>\n",
       "      <td>5.0</td>\n",
       "      <td>5.0</td>\n",
       "      <td>4.5</td>\n",
       "      <td>5.0</td>\n",
       "      <td>4.5</td>\n",
       "      <td>5.0</td>\n",
       "      <td>5.0</td>\n",
       "      <td>5.0</td>\n",
       "      <td>5.0</td>\n",
       "      <td>...</td>\n",
       "      <td>4.5</td>\n",
       "      <td>5.0</td>\n",
       "      <td>5.0</td>\n",
       "      <td>4.5</td>\n",
       "      <td>5.0</td>\n",
       "      <td>4.5</td>\n",
       "      <td>5.0</td>\n",
       "      <td>5.0</td>\n",
       "      <td>4.0</td>\n",
       "      <td>5.0</td>\n",
       "    </tr>\n",
       "  </tbody>\n",
       "</table>\n",
       "<p>5 rows × 30 columns</p>\n",
       "</div>"
      ],
      "text/plain": [
       "title  Forrest Gump (1994)  Pulp Fiction (1994)  \\\n",
       "29                     5.0                  5.0   \n",
       "508                    4.0                  5.0   \n",
       "14                     1.0                  5.0   \n",
       "72                     5.0                  5.0   \n",
       "653                    4.0                  5.0   \n",
       "\n",
       "title  Shawshank Redemption, The (1994)  Silence of the Lambs, The (1991)  \\\n",
       "29                                  5.0                               4.0   \n",
       "508                                 4.0                               4.0   \n",
       "14                                  2.0                               5.0   \n",
       "72                                  5.0                               4.5   \n",
       "653                                 5.0                               4.5   \n",
       "\n",
       "title  Star Wars: Episode IV - A New Hope (1977)  Jurassic Park (1993)  \\\n",
       "29                                           4.0                   4.0   \n",
       "508                                          5.0                   3.0   \n",
       "14                                           5.0                   3.0   \n",
       "72                                           4.5                   4.0   \n",
       "653                                          5.0                   4.5   \n",
       "\n",
       "title  Matrix, The (1999)  Toy Story (1995)  Schindler's List (1993)  \\\n",
       "29                    3.0               4.0                      5.0   \n",
       "508                   4.5               3.0                      5.0   \n",
       "14                    5.0               2.0                      4.0   \n",
       "72                    4.5               5.0                      5.0   \n",
       "653                   5.0               5.0                      5.0   \n",
       "\n",
       "title  Terminator 2: Judgment Day (1991)  \\\n",
       "29                                   4.0   \n",
       "508                                  2.0   \n",
       "14                                   4.0   \n",
       "72                                   3.0   \n",
       "653                                  5.0   \n",
       "\n",
       "title                    ...                      Dances with Wolves (1990)  \\\n",
       "29                       ...                                            5.0   \n",
       "508                      ...                                            5.0   \n",
       "14                       ...                                            3.0   \n",
       "72                       ...                                            4.5   \n",
       "653                      ...                                            4.5   \n",
       "\n",
       "title  Fight Club (1999)  Usual Suspects, The (1995)  \\\n",
       "29                   4.0                         5.0   \n",
       "508                  4.0                         5.0   \n",
       "14                   5.0                         5.0   \n",
       "72                   5.0                         5.0   \n",
       "653                  5.0                         5.0   \n",
       "\n",
       "title  Seven (a.k.a. Se7en) (1995)  Lion King, The (1994)  \\\n",
       "29                             4.0                    3.0   \n",
       "508                            4.0                    3.5   \n",
       "14                             5.0                    4.0   \n",
       "72                             5.0                    5.0   \n",
       "653                            4.5                    5.0   \n",
       "\n",
       "title  Godfather, The (1972)  \\\n",
       "29                       5.0   \n",
       "508                      5.0   \n",
       "14                       5.0   \n",
       "72                       5.0   \n",
       "653                      4.5   \n",
       "\n",
       "title  Lord of the Rings: The Fellowship of the Ring, The (2001)  \\\n",
       "29                                                   3.0           \n",
       "508                                                  4.5           \n",
       "14                                                   5.0           \n",
       "72                                                   5.0           \n",
       "653                                                  5.0           \n",
       "\n",
       "title  Apollo 13 (1995)  True Lies (1994)  \\\n",
       "29                  5.0               4.0   \n",
       "508                 3.0               2.0   \n",
       "14                  3.0               4.0   \n",
       "72                  3.5               3.0   \n",
       "653                 5.0               4.0   \n",
       "\n",
       "title  Twelve Monkeys (a.k.a. 12 Monkeys) (1995)  \n",
       "29                                           2.0  \n",
       "508                                          4.0  \n",
       "14                                           4.0  \n",
       "72                                           5.0  \n",
       "653                                          5.0  \n",
       "\n",
       "[5 rows x 30 columns]"
      ]
     },
     "execution_count": 17,
     "metadata": {},
     "output_type": "execute_result"
    }
   ],
   "source": [
    "n_movies = 30\n",
    "n_users = 18\n",
    "most_rated_movies_users_selection = helper.sort_by_rating_density(user_movie_ratings, n_movies, n_users)\n",
    "\n",
    "print('dataset dimensions: ', most_rated_movies_users_selection.shape)\n",
    "most_rated_movies_users_selection.head()"
   ]
  },
  {
   "cell_type": "markdown",
   "metadata": {},
   "source": [
    "That's more like it. Let's also establish a good way for visualizing these ratings so we can attempt to visually recognize the ratings (and later, clusters) when we look at bigger subsets.\n",
    "\n",
    "Let's use colors instead of the number ratings:"
   ]
  },
  {
   "cell_type": "code",
   "execution_count": 18,
   "metadata": {},
   "outputs": [
    {
     "data": {
      "image/png": "[encoded data removed]",
      "text/plain": [
       "<matplotlib.figure.Figure at 0x258b49120b8>"
      ]
     },
     "metadata": {},
     "output_type": "display_data"
    }
   ],
   "source": [
    "helper.draw_movies_heatmap(most_rated_movies_users_selection)"
   ]
  },
  {
   "cell_type": "markdown",
   "metadata": {},
   "source": [
    "Each column is a movie. Each row is a user. The color of the cell is how the user rated that movie based on the scale on the right of the graph.\n",
    "\n",
    "Notice how some cells are white? This means the respective user did not rate that movie. This is an issue you'll come across when clustering in real life. Unlike the clean example we started with, real-world datasets can often be sparse and not have a value in each cell of the dataset. This makes it less straightforward to cluster users directly by their movie ratings as k-means generally does not like missing values.\n",
    "\n",
    "For performance reasons, we'll only use ratings for 1000 movies (out of the 9000+ available in the dataset)."
   ]
  },
  {
   "cell_type": "code",
   "execution_count": 19,
   "metadata": {},
   "outputs": [],
   "source": [
    "user_movie_ratings =  pd.pivot_table(ratings_title, index='userId', columns= 'title', values='rating')\n",
    "most_rated_movies_1k = helper.get_most_rated_movies(user_movie_ratings, 1000)"
   ]
  },
  {
   "cell_type": "markdown",
   "metadata": {},
   "source": [
    "To have sklearn run k-means clustering to a dataset with missing values like this, we will first cast it to the [sparse csr matrix](https://docs.scipy.org/doc/scipy-0.19.0/reference/generated/scipy.sparse.csr_matrix.html) type defined in the SciPi library. \n",
    "\n",
    "To convert from a pandas dataframe to a sparse matrix, we'll have to convert to SparseDataFrame, then use pandas' `to_coo()` method for the conversion.\n",
    "\n",
    "Note: `to_coo()` was only added in later versions of pandas. If you run into an error with the next cell, make sure pandas is up to date."
   ]
  },
  {
   "cell_type": "code",
   "execution_count": 20,
   "metadata": {},
   "outputs": [],
   "source": [
    "sparse_ratings = csr_matrix(pd.SparseDataFrame(most_rated_movies_1k).to_coo())"
   ]
  },
  {
   "cell_type": "markdown",
   "metadata": {},
   "source": [
    "## Let's cluster!\n",
    "With k-means, we have to specify k, the number of clusters. Let's arbitrarily try k=20 (A better way to pick k is as illustrated above with the elbow method. That would take some processing time to run, however.):"
   ]
  },
  {
   "cell_type": "code",
   "execution_count": 21,
   "metadata": {},
   "outputs": [],
   "source": [
    "# 20 clusters\n",
    "predictions = KMeans(n_clusters=20, algorithm='full').fit_predict(sparse_ratings)"
   ]
  },
  {
   "cell_type": "markdown",
   "metadata": {},
   "source": [
    "To visualize some of these clusters, we'll plot each cluster as a heat map:"
   ]
  },
  {
   "cell_type": "code",
   "execution_count": null,
   "metadata": {},
   "outputs": [],
   "source": []
  }
 ],
 "metadata": {
  "kernelspec": {
   "display_name": "Python 3",
   "language": "python",
   "name": "python3"
  },
  "language_info": {
   "codemirror_mode": {
    "name": "ipython",
    "version": 3
   },
   "file_extension": ".py",
   "mimetype": "text/x-python",
   "name": "python",
   "nbconvert_exporter": "python",
   "pygments_lexer": "ipython3",
   "version": "3.6.5"
  }
 },
 "nbformat": 4,
 "nbformat_minor": 2
}
